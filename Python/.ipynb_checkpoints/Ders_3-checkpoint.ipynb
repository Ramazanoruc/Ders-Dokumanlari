{
 "cells": [
  {
   "cell_type": "markdown",
   "id": "17c9165e",
   "metadata": {},
   "source": [
    "## Koşullu Durumlar - if-else koşullu durumları\n"
   ]
  },
  {
   "cell_type": "markdown",
   "id": "1b76cd5f",
   "metadata": {},
   "source": [
    "### Python Programlarının çalışma mantığı\n"
   ]
  },
  {
   "cell_type": "markdown",
   "id": "6d06a538",
   "metadata": {},
   "source": [
    "Python programları çalışmaya başladığı zaman kodlarımız yukardan başlayarak teker teker çalıştırılır ve çalıştıracak kod kalmayınca programımız sona erer. Şöyle bir örneği düşünelim;\n",
    "\n"
   ]
  },
  {
   "cell_type": "code",
   "execution_count": null,
   "id": "211454b2",
   "metadata": {},
   "outputs": [],
   "source": [
    "a = 2\n",
    "b = 3\n",
    "c = 4\n",
    "print(a+b+c)"
   ]
  },
  {
   "cell_type": "markdown",
   "id": "f1415081",
   "metadata": {},
   "source": [
    "Yukarıdaki basit kodda program teker teker her bir satırı ve ifadeyi çalıştırır ve çalıştıracak kod kalmayınca program sona erer.Ancak Python'da her program bu kadar basit olmayabilir. Çoğu zaman Python programlarımız belirli bloklardan oluşur ve bu bloklar her zaman çalışmak zorunda olmaz.Peki bu bloklar nasıl tanımlanır ? Pythonda bir blok tanımlama işlemi Girintiler sayesinde olmaktadır. Örnek olması açısından, Pythonda bloklar şu şekilde oluşabilir."
   ]
  },
  {
   "cell_type": "code",
   "execution_count": null,
   "id": "b29391ab",
   "metadata": {},
   "outputs": [],
   "source": [
    "a = 2 # Blok 1 'e ait kod\n",
    "\n",
    "if (a == 2):\n",
    "    print(a) # Blok 2'ye ait kod\n",
    "print(\"Merhaba\") # Blok 1 ' ait kod"
   ]
  },
  {
   "cell_type": "markdown",
   "id": "9b528c10",
   "metadata": {},
   "source": [
    "Dikkat ederseniz burada daha önce görmediğimiz bir şey yaptık ve if in bulunduğu satırdan sonraki print işlemini bir tab kadar girintili yazdık. Burada gördüğümüz gibi, girintiler(tab) Pythonda bir blok oluşturmak için kullanılıyor ve her bloğunun çalıştırılması gerekmiyor. Mesela yukarıda gördüğümüz kodda 2 print işlemi de çalıştı. Ancak kodumuzu şu şekilde yazsaydık, ilk print işlemi çalışmayacaktı."
   ]
  },
  {
   "cell_type": "code",
   "execution_count": null,
   "id": "6c58ff81",
   "metadata": {},
   "outputs": [],
   "source": [
    "a = 2 # Blok 1 'e ait kod\n",
    "\n",
    "if (a == 2):\n",
    "    print(a) # Blok 2'ye ait kod\n",
    "    print(a+3)\n",
    "print(\"Merhaba\") # Blok 1 ' ait kod"
   ]
  },
  {
   "cell_type": "markdown",
   "id": "5c97e1ad",
   "metadata": {},
   "source": [
    "### if Bloğu"
   ]
  },
  {
   "cell_type": "markdown",
   "id": "6b166cf0",
   "metadata": {},
   "source": [
    "if bloğu programımızın içinde herhangi bir yerde belli bir koşulu kontrol edecek isek kullanılan bloklardır.Yazımı şu şekildedir;\n",
    "\n",
    "       if (koşul): \n",
    "           # if bloğu - Koşul sağlanınca (True) çalışır. Bu hizadaki her işlem bu if bloğuna ait.\n",
    "           # if bloğu - Girintiyle oluşturulur.\n",
    "           Yapılacak İşlemler\n",
    "\n",
    "if bloğu eğer koşul sağlanırsa anlamı taşır. Eğer if kalıbındaki koşul sağlanırsa (True) if bloğu çalıştırılır, koşul sağlanmazsa (False) if bloğu çalıştırılmaz.\n",
    "\n",
    "Hemen bir örnek ile koşullu durumları anlamaya çalışalım."
   ]
  },
  {
   "cell_type": "code",
   "execution_count": null,
   "id": "c9348926",
   "metadata": {},
   "outputs": [],
   "source": [
    "# 18 yaş kontrolü\n",
    "yaş = int(input(\"Yaşınızı giriniz:\"))\n",
    "\n",
    "if (yaş > 18):\n",
    "    # if bloğu -  Girinti ile sağlanıyor.\n",
    "    print(\"Bu mekana girebilirsiniz.\")"
   ]
  },
  {
   "cell_type": "markdown",
   "id": "8f3d680f",
   "metadata": {},
   "source": [
    "Başka bir örnek yapalım"
   ]
  },
  {
   "cell_type": "code",
   "execution_count": null,
   "id": "e02745ca",
   "metadata": {},
   "outputs": [],
   "source": [
    "# Negatif mi değil mi ?\n",
    "sayı = int (input(\"Sayıyı giriniz:\"))\n",
    "\n",
    "if (sayı < 0):\n",
    "    print(\"Negatif Sayı\")"
   ]
  },
  {
   "cell_type": "markdown",
   "id": "1f7d4ca4",
   "metadata": {},
   "source": [
    "### else Bloğu"
   ]
  },
  {
   "cell_type": "markdown",
   "id": "d8c6c228",
   "metadata": {},
   "source": [
    "else blokları if koşulu sağlanmadığı zaman (False) çalışan bloklardır. Kullanımı şu şekildedir;\n",
    "\n",
    "       else:\n",
    "           # else bloğu - Yukarısındaki herhangi bir if bloğu çalışmadığı  zaman çalışır.\n",
    "           # else bloğu - Girintiyle oluşturulur.\n",
    "               Yapılacak İşlemler\n",
    "\n",
    "Dikkat ederseniz burada else koşulunun yanına herhangi bir koşul yazmadık. Çünkü zaten else bloğunun çalışması ondan önce gelen diğer koşulların sağlanmamasına bağlı oluyor. İsterseniz, 18 yaş kontrolü örneğini else bloğunu dahil ederek tekrar yazalım."
   ]
  },
  {
   "cell_type": "code",
   "execution_count": null,
   "id": "7ddb0eb4",
   "metadata": {},
   "outputs": [],
   "source": [
    "yaş = int(input(\"Yaşınızı giriniz:\"))\n",
    "\n",
    "if (yaş < 18):\n",
    "    # if bloğu -  Girinti ile sağlanıyor.\n",
    "    print(\"Bu mekana giremezsiniz.\")\n",
    "else:\n",
    "    # else bloğu -  if koşulu sağlanmazsa çalışacak.\n",
    "    print(\"Mekana hoşgeldiniz.\")"
   ]
  },
  {
   "cell_type": "markdown",
   "id": "ed06d43d",
   "metadata": {},
   "source": [
    "sayının negatif mi pozitif mi olduğunu bulalım"
   ]
  },
  {
   "cell_type": "code",
   "execution_count": null,
   "id": "9d94072a",
   "metadata": {},
   "outputs": [],
   "source": [
    "sayi=int(input(\"Bir sayi giriniz : \"))\n",
    "\n",
    "if(sayi>0):\n",
    "    print(\"Sayı pozitif bir sayıdır\")\n",
    "else:\n",
    "    print(\"Sayi pozitif bir sayi değildir\")"
   ]
  },
  {
   "cell_type": "markdown",
   "id": "ff75cc3d",
   "metadata": {},
   "source": [
    "işte koşullu durumların aslında mantığı tamamıyla bu kadar ! Konuyu bitirmeden önce aşağıdaki kodu çalıştıralım."
   ]
  },
  {
   "cell_type": "code",
   "execution_count": null,
   "id": "86cd8e9a",
   "metadata": {},
   "outputs": [],
   "source": [
    "else:\n",
    "    print(\"Merhaba\")"
   ]
  },
  {
   "cell_type": "code",
   "execution_count": null,
   "id": "385a2815",
   "metadata": {},
   "outputs": [],
   "source": []
  },
  {
   "cell_type": "code",
   "execution_count": null,
   "id": "85276bbb",
   "metadata": {},
   "outputs": [],
   "source": []
  },
  {
   "cell_type": "code",
   "execution_count": null,
   "id": "929b5ef4",
   "metadata": {},
   "outputs": [],
   "source": []
  },
  {
   "cell_type": "code",
   "execution_count": null,
   "id": "8a42b0fb",
   "metadata": {},
   "outputs": [],
   "source": [
    "\n"
   ]
  },
  {
   "cell_type": "code",
   "execution_count": null,
   "id": "46a32b89",
   "metadata": {},
   "outputs": [],
   "source": []
  },
  {
   "cell_type": "code",
   "execution_count": null,
   "id": "bb447121",
   "metadata": {},
   "outputs": [],
   "source": []
  },
  {
   "cell_type": "code",
   "execution_count": null,
   "id": "ca254b59",
   "metadata": {},
   "outputs": [],
   "source": []
  },
  {
   "cell_type": "code",
   "execution_count": null,
   "id": "097ed23e",
   "metadata": {},
   "outputs": [],
   "source": []
  },
  {
   "cell_type": "code",
   "execution_count": null,
   "id": "456cbdb1",
   "metadata": {},
   "outputs": [],
   "source": [
    "a=5\n",
    "b=10"
   ]
  },
  {
   "cell_type": "code",
   "execution_count": 4,
   "id": "b5d9713a",
   "metadata": {},
   "outputs": [
    {
     "name": "stdout",
     "output_type": "stream",
     "text": [
      "1.Sayiyi Giriniz : 60\n",
      "2.Sayiyi Giriniz : 40\n",
      "100\n"
     ]
    }
   ],
   "source": [
    "sayi1=int(input(\"1.Sayiyi Giriniz : \"))\n",
    "sayi_2=int(input(\"2.Sayiyi Giriniz : \"))\n",
    "toplam=sayi1*sayi_2\n",
    "\n",
    "print(toplam)"
   ]
  },
  {
   "cell_type": "code",
   "execution_count": null,
   "id": "c009ff58",
   "metadata": {},
   "outputs": [],
   "source": []
  }
 ],
 "metadata": {
  "kernelspec": {
   "display_name": "Python 3 (ipykernel)",
   "language": "python",
   "name": "python3"
  },
  "language_info": {
   "codemirror_mode": {
    "name": "ipython",
    "version": 3
   },
   "file_extension": ".py",
   "mimetype": "text/x-python",
   "name": "python",
   "nbconvert_exporter": "python",
   "pygments_lexer": "ipython3",
   "version": "3.9.13"
  }
 },
 "nbformat": 4,
 "nbformat_minor": 5
}
