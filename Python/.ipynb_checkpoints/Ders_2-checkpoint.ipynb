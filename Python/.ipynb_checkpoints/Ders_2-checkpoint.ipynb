{
 "cells": [
  {
   "cell_type": "markdown",
   "id": "8be804e0",
   "metadata": {},
   "source": [
    "## Matematik Operatörleri\n"
   ]
  },
  {
   "cell_type": "markdown",
   "id": "d21eb46b",
   "metadata": {},
   "source": [
    "Python'da ve diğer programlama dillerinde matematik operatörleri oldukça önemlidir. Bu konumuzda, Pythondaki matematik operatörlerini öğreneceğiz.\n",
    "\n"
   ]
  },
  {
   "cell_type": "markdown",
   "id": "2f1170ea",
   "metadata": {},
   "source": [
    "### Toplama İşlemi (+)"
   ]
  },
  {
   "cell_type": "markdown",
   "id": "b0464618",
   "metadata": {},
   "source": [
    "Python'da toplama işlemi şu şekilde yapılabilmektedir.\n",
    "\n"
   ]
  },
  {
   "cell_type": "code",
   "execution_count": 1,
   "id": "eb65ed81",
   "metadata": {},
   "outputs": [
    {
     "name": "stdout",
     "output_type": "stream",
     "text": [
      "29\n"
     ]
    }
   ],
   "source": [
    "a = 14\n",
    "b = 15\n",
    "print(a + b)"
   ]
  },
  {
   "cell_type": "code",
   "execution_count": 2,
   "id": "dd035b45",
   "metadata": {},
   "outputs": [
    {
     "name": "stdout",
     "output_type": "stream",
     "text": [
      "7.9\n"
     ]
    }
   ],
   "source": [
    "i =  3.1\n",
    "j  = 4.8#Float\n",
    "print(i+j)"
   ]
  },
  {
   "cell_type": "markdown",
   "id": "380dd5c2",
   "metadata": {},
   "source": [
    "### Çıkarma İşlemi (-)"
   ]
  },
  {
   "cell_type": "markdown",
   "id": "c0b2fc13",
   "metadata": {},
   "source": [
    "Python'da çıkarma işlemi şu şekilde yapılabilmektedir.\n",
    "\n"
   ]
  },
  {
   "cell_type": "code",
   "execution_count": 6,
   "id": "fa248068",
   "metadata": {},
   "outputs": [
    {
     "name": "stdout",
     "output_type": "stream",
     "text": [
      "-47\n"
     ]
    }
   ],
   "source": [
    "a =  28\n",
    "b = 35\n",
    "c = 40\n",
    "print(a-b-c)"
   ]
  },
  {
   "cell_type": "code",
   "execution_count": 7,
   "id": "0d47d568",
   "metadata": {},
   "outputs": [
    {
     "name": "stdout",
     "output_type": "stream",
     "text": [
      "-6\n"
     ]
    }
   ],
   "source": [
    "t = -1\n",
    "y = 5\n",
    "print(t-y)"
   ]
  },
  {
   "cell_type": "markdown",
   "id": "16b93706",
   "metadata": {},
   "source": [
    "### Çarpma İşlemi (*)"
   ]
  },
  {
   "cell_type": "markdown",
   "id": "3933c958",
   "metadata": {},
   "source": [
    "Python'da çarpma işlemi şu şekilde yapılabilmektedir.\n"
   ]
  },
  {
   "cell_type": "code",
   "execution_count": 3,
   "id": "47bfba6d",
   "metadata": {},
   "outputs": [
    {
     "name": "stdout",
     "output_type": "stream",
     "text": [
      "20\n"
     ]
    }
   ],
   "source": [
    "a = 4\n",
    "b = 5\n",
    "print(a *b)"
   ]
  },
  {
   "cell_type": "code",
   "execution_count": 4,
   "id": "118a7d58",
   "metadata": {},
   "outputs": [
    {
     "name": "stdout",
     "output_type": "stream",
     "text": [
      "14.13\n"
     ]
    }
   ],
   "source": [
    "i = 3.14\n",
    "j = 4.5\n",
    "print(i *j)"
   ]
  },
  {
   "cell_type": "code",
   "execution_count": 10,
   "id": "b679bff2",
   "metadata": {},
   "outputs": [
    {
     "name": "stdout",
     "output_type": "stream",
     "text": [
      "60\n"
     ]
    }
   ],
   "source": [
    "a = 3\n",
    "b = 4\n",
    "c = 5\n",
    "print(a *b *c)"
   ]
  },
  {
   "cell_type": "markdown",
   "id": "2d79a1f4",
   "metadata": {},
   "source": [
    "### Bölme İşlemi (/)"
   ]
  },
  {
   "cell_type": "markdown",
   "id": "c4c7c895",
   "metadata": {},
   "source": [
    "Python'da bölme işlemi şu şekilde yapılabilmektedir.\n",
    "\n"
   ]
  },
  {
   "cell_type": "code",
   "execution_count": 5,
   "id": "df6cb547",
   "metadata": {},
   "outputs": [
    {
     "name": "stdout",
     "output_type": "stream",
     "text": [
      "2.0\n"
     ]
    }
   ],
   "source": [
    "print(4 / 2)"
   ]
  },
  {
   "cell_type": "code",
   "execution_count": 6,
   "id": "7cf0fed9",
   "metadata": {},
   "outputs": [
    {
     "name": "stdout",
     "output_type": "stream",
     "text": [
      "3.3333333333333335\n"
     ]
    }
   ],
   "source": [
    "print(10 / 3)"
   ]
  },
  {
   "cell_type": "markdown",
   "id": "99a8380b",
   "metadata": {},
   "source": [
    "### Kalanı Bulma (%)"
   ]
  },
  {
   "cell_type": "markdown",
   "id": "b9a07c3a",
   "metadata": {},
   "source": [
    "Bu operatör de , bir sayının başka bir sayıya bölümünden kalan sonucunu bulmamızı sağlar.\n",
    "\n"
   ]
  },
  {
   "cell_type": "code",
   "execution_count": 7,
   "id": "c78388ae",
   "metadata": {},
   "outputs": [
    {
     "name": "stdout",
     "output_type": "stream",
     "text": [
      "1\n"
     ]
    }
   ],
   "source": [
    "# 13'ün 4 ile bölümünden kalan 1'dir.\n",
    "print(13 % 4)"
   ]
  },
  {
   "cell_type": "code",
   "execution_count": 15,
   "id": "4dda0c42",
   "metadata": {},
   "outputs": [
    {
     "name": "stdout",
     "output_type": "stream",
     "text": [
      "0\n"
     ]
    }
   ],
   "source": [
    "print(14 % 2)"
   ]
  },
  {
   "cell_type": "code",
   "execution_count": 16,
   "id": "c8fb47ad",
   "metadata": {},
   "outputs": [
    {
     "name": "stdout",
     "output_type": "stream",
     "text": [
      "108\n"
     ]
    }
   ],
   "source": [
    "print(330 % 111)\n"
   ]
  },
  {
   "cell_type": "markdown",
   "id": "ffa7415b",
   "metadata": {},
   "source": [
    "### Üs bulma (**)"
   ]
  },
  {
   "cell_type": "markdown",
   "id": "fc7a835c",
   "metadata": {},
   "source": [
    "Bu operatör bir sayının üssünü bulmamızı sağlar. Örnek olarak operatörün solundaki sayının sağdaki sayıya göre üssünü ekrana basar.\n",
    "\n"
   ]
  },
  {
   "cell_type": "code",
   "execution_count": 19,
   "id": "b0e3fdf6",
   "metadata": {},
   "outputs": [
    {
     "name": "stdout",
     "output_type": "stream",
     "text": [
      "64\n"
     ]
    }
   ],
   "source": [
    "# 4^3\n",
    "print(4 ** 3)"
   ]
  },
  {
   "cell_type": "code",
   "execution_count": 20,
   "id": "b1a210a3",
   "metadata": {},
   "outputs": [
    {
     "name": "stdout",
     "output_type": "stream",
     "text": [
      "4\n"
     ]
    }
   ],
   "source": [
    "print(2**2)"
   ]
  },
  {
   "cell_type": "code",
   "execution_count": 21,
   "id": "6b5a3c90",
   "metadata": {},
   "outputs": [
    {
     "name": "stdout",
     "output_type": "stream",
     "text": [
      "30.959144000000002\n"
     ]
    }
   ],
   "source": [
    "print(3.14 ** 3)"
   ]
  },
  {
   "cell_type": "code",
   "execution_count": null,
   "id": "b49e451c",
   "metadata": {},
   "outputs": [],
   "source": []
  }
 ],
 "metadata": {
  "kernelspec": {
   "display_name": "Python 3 (ipykernel)",
   "language": "python",
   "name": "python3"
  },
  "language_info": {
   "codemirror_mode": {
    "name": "ipython",
    "version": 3
   },
   "file_extension": ".py",
   "mimetype": "text/x-python",
   "name": "python",
   "nbconvert_exporter": "python",
   "pygments_lexer": "ipython3",
   "version": "3.9.13"
  }
 },
 "nbformat": 4,
 "nbformat_minor": 5
}
