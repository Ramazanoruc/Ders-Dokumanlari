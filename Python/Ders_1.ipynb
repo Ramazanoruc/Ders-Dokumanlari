{
 "cells": [
  {
   "cell_type": "markdown",
   "id": "e0e59e42",
   "metadata": {},
   "source": [
    "# Pythonda Sayılar"
   ]
  },
  {
   "cell_type": "markdown",
   "id": "8707ad6c",
   "metadata": {},
   "source": [
    "Bu bölümle birlikte artık Python öğrenmeye başlıyoruz. Pythonda temeli sağlam atmamız için öncelikle veri tipleri ve veri yapılarını öğrenmeliyiz.İsterseniz sayıları öğrenerek maratonumuza başlayalım.\n",
    "\n",
    "Bu bölümde şunları öğreneceğiz.\n",
    "\n",
    "    1. Tamsayı(Integer) ve Ondalıklı Sayı(Float ) Veri tipleri\n",
    "    2. Basit Matematik İşlemleri \n",
    "    3. Değişken Tanımlama"
   ]
  },
  {
   "cell_type": "markdown",
   "id": "d8398f47",
   "metadata": {},
   "source": [
    "### Tamsayılar (Integer)"
   ]
  },
  {
   "cell_type": "markdown",
   "id": "4a364757",
   "metadata": {},
   "source": [
    "Matematikte gördüğümüz tüm sayılar (negatif,pozitif) aslında Python'da bir veri tipidir. Tamsayılar ise ingilizce olarak Integer olarak geçmektedir.\n",
    "\n",
    "Örnek olarak, -1000,34,2,0 gibi sayılar Python'da birer tamsayı(integer) değerleridir."
   ]
  },
  {
   "cell_type": "markdown",
   "id": "ec8c9355",
   "metadata": {},
   "source": [
    "### Ondalıklı Sayılar (Float)"
   ]
  },
  {
   "cell_type": "markdown",
   "id": "0e637430",
   "metadata": {},
   "source": [
    "Tamsayılar gibi Ondalıklı sayılar da bizim matematikte gördüğümüz sayı çeşitlerinden bir tanesidir. Ondalıklı sayılar matematikte olduğu gibi, Pythonda da bir veri tipidir.Ondalıklı Sayılar veya diğer adıyla Kayan Sayılar İngilizce olarak Float olarak geçmektedir.\n",
    "\n",
    "Örnek olarak, 3.14, 3.554546, -13.54 gibi sayılar Python'da birer ondalıklı sayı(float) değerleridir."
   ]
  },
  {
   "cell_type": "markdown",
   "id": "e0b4e4d5",
   "metadata": {},
   "source": [
    "### Basit Matematik Operatörleri"
   ]
  },
  {
   "cell_type": "markdown",
   "id": "5f09f37b",
   "metadata": {},
   "source": [
    "Basit 4 işlemi (Toplama,Çıkarma,Çarpma,Bölme) hepimiz matematikten biliriz. Şimdi bu işlemlerin Pythonda nasıl yapıldığını görmeye çalışalım.\n"
   ]
  },
  {
   "cell_type": "code",
   "execution_count": null,
   "id": "7ee41c2a",
   "metadata": {},
   "outputs": [],
   "source": [
    "print(3+4)"
   ]
  },
  {
   "cell_type": "code",
   "execution_count": null,
   "id": "9214595a",
   "metadata": {},
   "outputs": [],
   "source": [
    "print(5-12)"
   ]
  },
  {
   "cell_type": "code",
   "execution_count": null,
   "id": "10baee88",
   "metadata": {},
   "outputs": [],
   "source": [
    "print(13*4)"
   ]
  },
  {
   "cell_type": "code",
   "execution_count": null,
   "id": "3b2223cb",
   "metadata": {},
   "outputs": [],
   "source": [
    "print(5/2)"
   ]
  },
  {
   "cell_type": "markdown",
   "id": "3f74a769",
   "metadata": {},
   "source": [
    "### Değişkenler ve Değişken Tanımlama "
   ]
  },
  {
   "cell_type": "markdown",
   "id": "b1fea830",
   "metadata": {},
   "source": [
    "Değişkenler bir programlama dilinde olmazsa olmaz bir kavramdır. Değişkenler aslında bir veri tipinden değer tutan birimlerdir.İsterseniz şimdi de Pythonda bir tane değişken oluşturalım"
   ]
  },
  {
   "cell_type": "code",
   "execution_count": 3,
   "id": "d9921bad",
   "metadata": {},
   "outputs": [],
   "source": [
    "# Değişken ismi ve Değişkenin değeri \n",
    "i =  15"
   ]
  },
  {
   "cell_type": "markdown",
   "id": "dcee1db0",
   "metadata": {},
   "source": [
    "Güzel! Değişkenimizi oluşturduk. Şimdi değişkenin değerini ekrana bastıralım."
   ]
  },
  {
   "cell_type": "code",
   "execution_count": 4,
   "id": "2265a5b9",
   "metadata": {},
   "outputs": [
    {
     "name": "stdout",
     "output_type": "stream",
     "text": [
      "15\n"
     ]
    }
   ],
   "source": [
    "print(i)"
   ]
  },
  {
   "cell_type": "markdown",
   "id": "cf701d2c",
   "metadata": {},
   "source": [
    "Ekrana bastırdığımızda değişkenimizin değeri 10 olarak karşımıza çıktı.Peki şu işlemi yaparsak ne olacak ?"
   ]
  },
  {
   "cell_type": "code",
   "execution_count": 5,
   "id": "56a70939",
   "metadata": {},
   "outputs": [
    {
     "name": "stdout",
     "output_type": "stream",
     "text": [
      "3375\n"
     ]
    }
   ],
   "source": [
    "print(i*i*i)\n"
   ]
  },
  {
   "cell_type": "markdown",
   "id": "165d421b",
   "metadata": {},
   "source": [
    "Şimdi de 3 tane farklı değişken oluşturmaya çalışalım."
   ]
  },
  {
   "cell_type": "code",
   "execution_count": 6,
   "id": "d306f627",
   "metadata": {},
   "outputs": [
    {
     "name": "stdout",
     "output_type": "stream",
     "text": [
      "7\n"
     ]
    }
   ],
   "source": [
    "a = 4\n",
    "b = 3\n",
    "c = a + b\n",
    "print(c)"
   ]
  },
  {
   "cell_type": "code",
   "execution_count": 7,
   "id": "278c294f",
   "metadata": {},
   "outputs": [
    {
     "name": "stdout",
     "output_type": "stream",
     "text": [
      "18.84\n"
     ]
    }
   ],
   "source": [
    "pi_sayisi=3.14\n",
    "çap=6\n",
    "çevre = pi_sayisi * çap\n",
    "print(çevre)"
   ]
  },
  {
   "cell_type": "markdown",
   "id": "0c8bc9c8",
   "metadata": {},
   "source": [
    "Son olarak bir değişkenin değerini artırma işlemlerinde Pythonda pratik bir yöntem bulunmaktadır. Aşağıdaki koda bakalım."
   ]
  },
  {
   "cell_type": "code",
   "execution_count": 8,
   "id": "64cc4cb1",
   "metadata": {},
   "outputs": [
    {
     "name": "stdout",
     "output_type": "stream",
     "text": [
      "6\n"
     ]
    }
   ],
   "source": [
    "a = 5\n",
    "a = a + 1\n",
    "print(a)"
   ]
  },
  {
   "cell_type": "markdown",
   "id": "165df06d",
   "metadata": {},
   "source": [
    "Buradaki \"a = a + 1\" işlemini Pythonda \"a += 1\" şeklinde yazabiliriz."
   ]
  },
  {
   "cell_type": "code",
   "execution_count": 9,
   "id": "a38cd904",
   "metadata": {},
   "outputs": [
    {
     "name": "stdout",
     "output_type": "stream",
     "text": [
      "11\n"
     ]
    }
   ],
   "source": [
    "a = 10\n",
    "a += 1 # a = a + 1 ile aynı şey.\n",
    "print(a) "
   ]
  },
  {
   "cell_type": "code",
   "execution_count": 10,
   "id": "def3517f",
   "metadata": {},
   "outputs": [
    {
     "name": "stdout",
     "output_type": "stream",
     "text": [
      "3\n"
     ]
    }
   ],
   "source": [
    "b = 4\n",
    "\n",
    "b -= 1 # b =  b -1\n",
    "print(b)"
   ]
  },
  {
   "cell_type": "code",
   "execution_count": 11,
   "id": "4ac6f9de",
   "metadata": {},
   "outputs": [
    {
     "name": "stdout",
     "output_type": "stream",
     "text": [
      "90\n"
     ]
    }
   ],
   "source": [
    "b = 10\n",
    "b *= 9\n",
    "print(b)"
   ]
  },
  {
   "cell_type": "markdown",
   "id": "70277919",
   "metadata": {},
   "source": [
    "### Yorum Satırları"
   ]
  },
  {
   "cell_type": "markdown",
   "id": "3dd0f1bf",
   "metadata": {},
   "source": [
    "Yorum satırları programlarımıza açıklama olarak eklediğimiz satırlardır. Eğer bir programda yorum satırları kullanılmışsa bu satırlar Python tarafından görülmez ve çalıştırılmaz."
   ]
  },
  {
   "cell_type": "code",
   "execution_count": 12,
   "id": "50aff900",
   "metadata": {},
   "outputs": [
    {
     "name": "stdout",
     "output_type": "stream",
     "text": [
      "RamazanPython\n",
      "8\n"
     ]
    }
   ],
   "source": [
    "#Tekli yorum satırı\n",
    "print(\"Ramazan\"+\"Python\")#Ekrana ramazanpython yazdıran kod blogu\n",
    "print(3+5)"
   ]
  },
  {
   "cell_type": "code",
   "execution_count": null,
   "id": "c7968dba",
   "metadata": {},
   "outputs": [],
   "source": [
    "\"\"\"Python ile Programlamaya giriş\n",
    "\n",
    "28.12.2022adbsadasndas\"\"\"\n",
    "\n",
    "print(5+3)"
   ]
  },
  {
   "cell_type": "code",
   "execution_count": null,
   "id": "74488690",
   "metadata": {},
   "outputs": [],
   "source": []
  }
 ],
 "metadata": {
  "kernelspec": {
   "display_name": "Python 3 (ipykernel)",
   "language": "python",
   "name": "python3"
  },
  "language_info": {
   "codemirror_mode": {
    "name": "ipython",
    "version": 3
   },
   "file_extension": ".py",
   "mimetype": "text/x-python",
   "name": "python",
   "nbconvert_exporter": "python",
   "pygments_lexer": "ipython3",
   "version": "3.9.13"
  }
 },
 "nbformat": 4,
 "nbformat_minor": 5
}
